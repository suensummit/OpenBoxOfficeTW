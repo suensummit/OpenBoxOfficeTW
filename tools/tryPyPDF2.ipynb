{
 "cells": [
  {
   "cell_type": "code",
   "execution_count": 1,
   "metadata": {
    "collapsed": true
   },
   "outputs": [],
   "source": [
    "from PyPDF2 import PdfFileReader"
   ]
  },
  {
   "cell_type": "code",
   "execution_count": 2,
   "metadata": {
    "collapsed": true
   },
   "outputs": [],
   "source": [
    "pdfDec = PdfFileReader(file( \"../2016/12/2016年12月上映影片全國票房資訊_20170203.pdf\", \"rb\"))"
   ]
  },
  {
   "cell_type": "code",
   "execution_count": 3,
   "metadata": {
    "collapsed": false
   },
   "outputs": [
    {
     "data": {
      "text/plain": [
       "{'/Author': u'shiao',\n",
       " '/CreationDate': u\"D:20170203152918+08'00'\",\n",
       " '/Creator': u'Microsoft\\xae Excel\\xae 2013',\n",
       " '/ModDate': u\"D:20170203152918+08'00'\",\n",
       " '/Producer': u'Microsoft\\xae Excel\\xae 2013'}"
      ]
     },
     "execution_count": 3,
     "metadata": {},
     "output_type": "execute_result"
    }
   ],
   "source": [
    "pdfDec.documentInfo"
   ]
  },
  {
   "cell_type": "code",
   "execution_count": 5,
   "metadata": {
    "collapsed": false
   },
   "outputs": [
    {
     "data": {
      "text/plain": [
       "7"
      ]
     },
     "execution_count": 5,
     "metadata": {},
     "output_type": "execute_result"
    }
   ],
   "source": [
    "pdfDec.getNumPages()"
   ]
  },
  {
   "cell_type": "code",
   "execution_count": 40,
   "metadata": {
    "collapsed": false
   },
   "outputs": [
    {
     "name": "stdout",
     "output_type": "stream",
     "text": [
      ".65/A&1\\oY\n",
      "5\n",
      "\n",
      "&!&\"\n",
      "5/A#\n",
      "556\n",
      "DZsb\n",
      "!$i\n",
      "555 \n",
      "\n",
      "LYb_$\n",
      "\n",
      "LYb_$\n",
      "ayg\n",
      "22\n",
      "56\n",
      "+)\n",
      "2016/11/18\n",
      "\n",
      "TOEI COMPANY, LTD.\n",
      "25\n",
      "13\n",
      "3,005\n",
      "692,766\n",
      "23\n",
      "56\n",
      "POKE'MONTHE\n",
      "<\n",
      "\n",
      "\n",
      "2016/11/18\n",
      "\n",
      "\n",
      "32\n",
      "14\n",
      "12,499\n",
      "2,844,260\n",
      "24\n",
      "-2iT\n",
      " 9V4j#\n",
      "2016/11/18\n",
      "\n",
      "\n",
      "LA PIEDRA FILMS, S.A.\n",
      "42\n",
      "11\n",
      "1,447\n",
      "239,500\n",
      "25\n",
      "S;&\n",
      "/kf5c\n",
      "2016/11/18\n",
      "\n",
      "\n",
      "47\n",
      "27\n",
      "10,206\n",
      "2,247,718\n",
      "26\n",
      "S;&\n",
      "]ghP\n",
      "2016/11/18\n",
      "\n",
      "\n",
      "#\n",
      "\n",
      "SJ/Y>&fC [\n",
      "\n",
      "50\n",
      "37\n",
      "23,918\n",
      "5,294,955\n",
      "27\n",
      "R&\n",
      "8E$%\n",
      "2016/11/18\n",
      "\n",
      "MIRAMAX UK LIMITED\n",
      "55\n",
      "34\n",
      "6,589\n",
      "1,316,001\n",
      "28\n",
      "?[<\n",
      "\n",
      "2016/11/21\n",
      "#\"-5/\"'ay6\n",
      "\n",
      "10\n",
      "2\n",
      "79\n",
      "17,320\n",
      "29\n",
      "iA=\n",
      "\n",
      "2016/11/25\n",
      "\n",
      "5Is\n",
      "\n",
      "\n",
      "\n",
      "\n",
      "10\n",
      "1\n",
      "269\n",
      "60,180\n",
      "30\n",
      "S;&\n",
      "OO'v\n",
      "2016/11/25\n",
      "\n",
      "\n",
      "\n",
      "13\n",
      "1\n",
      "679\n",
      "150,495\n",
      "31\n",
      "S;&\n",
      "#f\n",
      "2016/11/25\n",
      "\n",
      "\n",
      "14\n",
      "3\n",
      "877\n",
      "181,080\n",
      "32\n",
      "\n",
      "\n",
      "2016/11/25\n",
      "\n",
      "ARRI MEDIA GMBH\n",
      "14\n",
      "2\n",
      "577\n",
      "113,930\n",
      "33\n",
      "/_&\n",
      "\n",
      "2016/11/25\n",
      "\n",
      "BETA  CINEMA GMBH\n",
      "20\n",
      "6\n",
      "1,327\n",
      "268,740\n",
      "34\n",
      "S;&\n",
      ":J?bD\n",
      "2016/11/25\n",
      "\n",
      "\n",
      "\n",
      "\n",
      "\n",
      "21\n",
      "11\n",
      "1,825\n",
      "388,800\n",
      "35\n",
      "56\n",
      "\n",
      "55 Y5\n",
      "2016/11/25\n",
      "\n",
      "FUJI CREATIVE CORPORATION\n",
      "23\n",
      "6\n",
      "5,476\n",
      "1,295,762\n",
      "36\n",
      "<}&\n",
      "PZf1\n",
      "2016/11/25\n",
      "\n",
      "EUROPA CORP\n",
      "26\n",
      "45\n",
      "23,472\n",
      "5,273,898\n",
      "37\n",
      "<}&\n",
      "55_W6\n",
      "2016/11/25\n",
      "\n",
      "ELLE DRIVER\n",
      "27\n",
      "7\n",
      "2,390\n",
      "502,085\n",
      "g\n",
      "\n",
      "\n"
     ]
    }
   ],
   "source": [
    "page1 = pdfDec.getPage(pageNumber = 1)\n",
    "print page1.extractText().encode(\"ascii\", \"ignore\")"
   ]
  },
  {
   "cell_type": "code",
   "execution_count": null,
   "metadata": {
    "collapsed": true
   },
   "outputs": [],
   "source": []
  }
 ],
 "metadata": {
  "kernelspec": {
   "display_name": "Python 2",
   "language": "python",
   "name": "python2"
  },
  "language_info": {
   "codemirror_mode": {
    "name": "ipython",
    "version": 2
   },
   "file_extension": ".py",
   "mimetype": "text/x-python",
   "name": "python",
   "nbconvert_exporter": "python",
   "pygments_lexer": "ipython2",
   "version": "2.7.12"
  }
 },
 "nbformat": 4,
 "nbformat_minor": 0
}
